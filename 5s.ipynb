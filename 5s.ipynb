{
  "nbformat": 4,
  "nbformat_minor": 0,
  "metadata": {
    "colab": {
      "name": "5s.ipynb",
      "provenance": []
    },
    "kernelspec": {
      "name": "python3",
      "display_name": "Python 3"
    },
    "language_info": {
      "name": "python"
    }
  },
  "cells": [
    {
      "cell_type": "code",
      "metadata": {
        "colab": {
          "base_uri": "https://localhost:8080/"
        },
        "id": "y6fkdULGnWW8",
        "outputId": "996e9172-d863-465d-f959-09b0ddbe054e"
      },
      "source": [
        "import time\n",
        "\n",
        "print(\"This function will sleep for 5 seconds\")\n",
        "time.sleep(5)\n",
        "print(\"Function executed!\")"
      ],
      "execution_count": null,
      "outputs": [
        {
          "output_type": "stream",
          "name": "stdout",
          "text": [
            "This function will sleep for 15 seconds\n",
            "Function executed!\n"
          ]
        }
      ]
    }
  ]
}