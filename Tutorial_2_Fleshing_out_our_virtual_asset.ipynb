{
  "nbformat": 4,
  "nbformat_minor": 0,
  "metadata": {
    "colab": {
      "name": "Tutorial 2 - Fleshing out our virtual asset.ipynb",
      "provenance": [],
      "collapsed_sections": [],
      "toc_visible": true
    },
    "kernelspec": {
      "name": "python3",
      "display_name": "Python 3"
    }
  },
  "cells": [
    {
      "cell_type": "markdown",
      "metadata": {
        "id": "7JbyH6hR1-6B"
      },
      "source": [
        "# ION_SDK Setup"
      ]
    },
    {
      "cell_type": "code",
      "metadata": {
        "id": "_de3_Z20JtNs"
      },
      "source": [
        "#@title <---Run to install ION_SDK & Dependancies\n",
        "%%capture\n",
        "!pip install --upgrade git+https://bitbucket.org/freemens/ion_sdk.git@master\n",
        "\n"
      ],
      "execution_count": null,
      "outputs": []
    },
    {
      "cell_type": "markdown",
      "metadata": {
        "id": "BlaG5YZput8d"
      },
      "source": [
        "# Login to Edison"
      ]
    },
    {
      "cell_type": "code",
      "metadata": {
        "colab": {
          "base_uri": "https://localhost:8080/"
        },
        "id": "JFgmChc7i86b",
        "outputId": "2a80fcec-d709-4b21-a419-85f41c5c26a9"
      },
      "source": [
        "\n",
        "from getpass import getpass\n",
        "import ion_sdk.edison_api.edison_api as eapi\n",
        "from ion_sdk.edison_api.models.factoryModel import EdisonGenericComponent, Model,CurrentState\n",
        "apiKey=getpass(prompt='Enter your api Key: (go to https://edison.ionenergy.co/core/users/me/api-key) ', stream=None) \n",
        "edApi=eapi.Client(apiKey)"
      ],
      "execution_count": null,
      "outputs": [
        {
          "output_type": "stream",
          "text": [
            "Enter your api Key: (go to https://edison.ionenergy.co/core/users/me/api-key) ··········\n"
          ],
          "name": "stdout"
        }
      ]
    },
    {
      "cell_type": "markdown",
      "metadata": {
        "id": "3I4eqYoV0Mct"
      },
      "source": [
        "# Pushing CSV data onto an Asset\n",
        "In this tutorial we will push data to a coffee machine virutal asset. \n",
        "- If you don't have an instance of the asset yet, [follow tutorial-1](https://https://colab.research.google.com/drive/1IKwz4Nd8lh51-nrNEd8b_nq8dJlCausr?usp=sharing).\n",
        "- Download [this csv file](https://docs.google.com/spreadsheets/d/1ZpI5ygabudWF5zTGK276Yk-TLh1taYQb8nvOQlimInM/edit?usp=sharing) and add it to the temporary local space of the Collab notebook.\n",
        "\n",
        "\n"
      ]
    },
    {
      "cell_type": "code",
      "metadata": {
        "colab": {
          "base_uri": "https://localhost:8080/"
        },
        "id": "2T2vkPiVF_-p",
        "outputId": "eb02ec45-fa9f-4e68-d466-4959a1fc2310"
      },
      "source": [
        "import pandas as pd\n",
        "import datetime\n",
        "\n",
        "%load_ext google.colab.data_table\n",
        "df=pd.read_csv(\"tutorial2-1.csv\")\n",
        "print(df.head(5))\n",
        "\n",
        "df['date']=pd.to_datetime(df['date'])\n",
        "df=df.set_index('date')\n",
        "\n",
        "Serial_number = \"CM01\"\n",
        "asset=edApi.getAsset(Serial_number)\n",
        "\n",
        "uploadSensorList=edApi.refactorDataframeToAsset(df,asset)\n",
        "\n",
        "asset.df=df\n",
        "edApi.updateSensorDataByFile(asset,uploadSensorList)\n"
      ],
      "execution_count": null,
      "outputs": [
        {
          "output_type": "stream",
          "text": [
            "The google.colab.data_table extension is already loaded. To reload it, use:\n",
            "  %reload_ext google.colab.data_table\n",
            "                  date  ON button state  Coffee Request state\n",
            "0  02/18/2021 12:00:00              0.0                     0\n",
            "1  02/18/2021 12:10:00              1.0                     0\n",
            "2  02/18/2021 12:10:01              0.0                     0\n",
            "3  02/18/2021 12:10:06              0.1                     1\n",
            "4  02/18/2021 12:10:07              0.0                     0\n",
            "('ON button state', 100)\n",
            "('Coffee request button state', 95)\n",
            "preparing payload\n",
            "Payload sent successfully ! Checkout: https://edison.ionenergy.co/core/iot/connected_component/view/229883/graph\n"
          ],
          "name": "stdout"
        }
      ]
    },
    {
      "cell_type": "markdown",
      "metadata": {
        "id": "NchThD3T0JyL"
      },
      "source": [
        "#Retreiving data"
      ]
    },
    {
      "cell_type": "code",
      "metadata": {
        "colab": {
          "base_uri": "https://localhost:8080/",
          "height": 231
        },
        "id": "S5MAYFAA0YXl",
        "outputId": "86ff6d5e-92c3-4f0c-8d96-7030f0933f2b"
      },
      "source": [
        "import pandas as pd\n",
        "Serial_number='CM01'\n",
        "asset=edApi.getAsset(Serial_number)\n",
        "\n",
        "sensorNameList=edApi.matchSensors([\"ON button state\",\"Coffee request button state\"],asset)\n",
        "req={\n",
        "    \"assets\":[asset],\n",
        "    \"sensorNames\":sensorNameList,\n",
        "    \"startDate\":eapi.edisonDate(2020,2,18,7,00),\n",
        "    \"endDate\":eapi.edisonDate(2020,2,18,15,00)\n",
        "        }\n",
        "edApi.getAssetDataFrame(**req)\n",
        "\n",
        "pd.options.plotting.backend = \"plotly\"\n",
        "\n",
        "fig = asset.df.plot()\n",
        "fig.show()"
      ],
      "execution_count": null,
      "outputs": [
        {
          "output_type": "error",
          "ename": "NameError",
          "evalue": "ignored",
          "traceback": [
            "\u001b[0;31m---------------------------------------------------------------------------\u001b[0m",
            "\u001b[0;31mNameError\u001b[0m                                 Traceback (most recent call last)",
            "\u001b[0;32m<ipython-input-1-131cea3d5fae>\u001b[0m in \u001b[0;36m<module>\u001b[0;34m()\u001b[0m\n\u001b[1;32m      1\u001b[0m \u001b[0;32mimport\u001b[0m \u001b[0mpandas\u001b[0m \u001b[0;32mas\u001b[0m \u001b[0mpd\u001b[0m\u001b[0;34m\u001b[0m\u001b[0;34m\u001b[0m\u001b[0m\n\u001b[1;32m      2\u001b[0m \u001b[0mSerial_number\u001b[0m\u001b[0;34m=\u001b[0m\u001b[0;34m'CM01'\u001b[0m\u001b[0;34m\u001b[0m\u001b[0;34m\u001b[0m\u001b[0m\n\u001b[0;32m----> 3\u001b[0;31m \u001b[0masset\u001b[0m\u001b[0;34m=\u001b[0m\u001b[0medApi\u001b[0m\u001b[0;34m.\u001b[0m\u001b[0mgetAsset\u001b[0m\u001b[0;34m(\u001b[0m\u001b[0mSerial_number\u001b[0m\u001b[0;34m)\u001b[0m\u001b[0;34m\u001b[0m\u001b[0;34m\u001b[0m\u001b[0m\n\u001b[0m\u001b[1;32m      4\u001b[0m \u001b[0;34m\u001b[0m\u001b[0m\n\u001b[1;32m      5\u001b[0m \u001b[0msensorNameList\u001b[0m\u001b[0;34m=\u001b[0m\u001b[0medApi\u001b[0m\u001b[0;34m.\u001b[0m\u001b[0mmatchSensors\u001b[0m\u001b[0;34m(\u001b[0m\u001b[0;34m[\u001b[0m\u001b[0;34m\"ON button state\"\u001b[0m\u001b[0;34m,\u001b[0m\u001b[0;34m\"Coffee request button state\"\u001b[0m\u001b[0;34m]\u001b[0m\u001b[0;34m,\u001b[0m\u001b[0masset\u001b[0m\u001b[0;34m)\u001b[0m\u001b[0;34m\u001b[0m\u001b[0;34m\u001b[0m\u001b[0m\n",
            "\u001b[0;31mNameError\u001b[0m: name 'edApi' is not defined"
          ]
        }
      ]
    },
    {
      "cell_type": "markdown",
      "metadata": {
        "id": "dUGSAu34XGjx"
      },
      "source": [
        "# Generating new data"
      ]
    },
    {
      "cell_type": "code",
      "metadata": {
        "id": "KoNWZ8C66Auk"
      },
      "source": [
        "class CoffeeMachine:\n",
        "    def __init__(self):\n",
        "        self.onButton=0\n",
        "        self.onTimer=0\n",
        "        self.onPeriod=600.0\n",
        "        self.status=0\n",
        "\n",
        "    def stateMachine(self,onButtonState,deltaT_s):\n",
        "        self.onButton=onButtonState\n",
        "        if self.onButton ==1:\n",
        "            self.onTimer=self.onPeriod\n",
        "        if self.onTimer>0:\n",
        "            self.status=1\n",
        "            self.onTimer=self.onTimer-deltaT_s\n",
        "        else :\n",
        "            self.status=0\n",
        "        return self.status"
      ],
      "execution_count": null,
      "outputs": []
    },
    {
      "cell_type": "code",
      "metadata": {
        "id": "5ASpLJzxXGOW",
        "colab": {
          "base_uri": "https://localhost:8080/"
        },
        "outputId": "7a9f5ee7-1552-4546-979d-e8a6bb78eb17"
      },
      "source": [
        "Serial_number='CM01'\n",
        "asset=edApi.getAsset(Serial_number)\n",
        "\n",
        "sensorNameList=edApi.matchSensors([\"ON button state\",\"Coffee request button state\"],asset)\n",
        "req={\n",
        "    \"assets\":[asset],\n",
        "    \"sensorNames\":sensorNameList,\n",
        "    \"startDate\":eapi.edisonDate(2021,2,18,7,00),\n",
        "    \"endDate\":eapi.edisonDate(2021,2,18,15,00)\n",
        "        }\n",
        "edApi.getAssetDataFrame(**req)\n",
        "asset.df=asset.df.resample('1S').asfreq().ffill()\n",
        "cm=CoffeeMachine()\n",
        "\n",
        "\n",
        "asset.df['status'] = [cm.stateMachine(x,1) for x in asset.df['CM01ON button state']]\n",
        "print(df.head(5))\n",
        "uploadSensorList=edApi.refactorDataframeToAsset(asset.df,asset)\n",
        "\n",
        "edApi.updateSensorDataByFile(asset,uploadSensorList)\n",
        "  "
      ],
      "execution_count": null,
      "outputs": [
        {
          "output_type": "stream",
          "text": [
            "getting sensors: ON button state-Coffee request button state from: 2021-02-18 07:00:00 to : 2021-02-18 15:00:00\n",
            "\r[##############################] 100%                     CM01ON button state  CM01Coffee request button state\n",
            "date                                                                     \n",
            "2021-02-18 12:00:00                  0.0                                0\n",
            "2021-02-18 12:10:00                  1.0                                0\n",
            "2021-02-18 12:10:01                  0.0                                0\n",
            "2021-02-18 12:10:06                  0.1                                1\n",
            "2021-02-18 12:10:07                  0.0                                0\n",
            "('Coffee request button state', 93)\n",
            "('ON button state', 88)\n",
            "WARNING Possible Sensor Name Mismatch !!!\n",
            "('Status', 100)\n",
            "preparing payload\n",
            "Payload sent successfully ! Checkout: https://edison.ionenergy.co/core/iot/connected_component/view/229883/graph\n"
          ],
          "name": "stdout"
        }
      ]
    },
    {
      "cell_type": "markdown",
      "metadata": {
        "id": "AI0-cl7iRe1j"
      },
      "source": [
        "# Using sensor to manage data"
      ]
    },
    {
      "cell_type": "code",
      "metadata": {
        "colab": {
          "base_uri": "https://localhost:8080/",
          "height": 763
        },
        "id": "38bVN3PY6QxX",
        "outputId": "f9ba519d-76a3-4917-905b-4196db4657ad"
      },
      "source": [
        "Serial_number='CM01'\n",
        "asset=edApi.getAsset(Serial_number)\n",
        "\n",
        "sensorNameList=edApi.matchSensors([\"ON button state\",\"Coffee request button state\"],asset)\n",
        "req={\n",
        "    \"assets\":[asset],\n",
        "    \"sensorNames\":sensorNameList,\n",
        "    \"startDate\":eapi.edisonDate(2021,2,18,7,00),\n",
        "    \"endDate\":eapi.edisonDate(2021,2,18,15,00)\n",
        "        }\n",
        "edApi.getAssetDataFrame(**req)\n",
        "asset.df=asset.df.resample('1S').asfreq().ffill()\n",
        "cm=CoffeeMachine()\n",
        "\n",
        "from ion_sdk.tools.sim import Sensor\n",
        "from ion_sdk.tools.toolbox import plotSensors,dataframeFromSensors\n",
        "\n",
        "sensors={}\n",
        "sensors['Status']=Sensor(**{'data':[],'time':[],'lastSigVal':0.0, 'sigVarTh':0.001, 'unit':'#','axis':1,'synced':1,'plotted':1})\n",
        "sensors['On button']=Sensor(**{'data':[],'time':[],'lastSigVal':0.0, 'sigVarTh':0.001, 'unit':'#','axis':1,'synced':0,'plotted':1})\n",
        "\n",
        "[sensors['Status'].significantAppend(cm.stateMachine(x,1),y) for x,y in zip(asset.df['CM01ON button state'],asset.df.index)]\n",
        "[sensors['On button'].significantAppend(x,y) for x,y in zip(asset.df['CM01ON button state'],asset.df.index)]\n",
        "df=dataframeFromSensors(sensors)\n",
        "\n",
        "print(df.head(5))\n",
        "asset.df=df\n",
        "\n",
        "fig=plotSensors(sensors,df)\n",
        "fig.show()\n",
        "\n",
        "uploadSensorList=edApi.refactorDataframeToAsset(asset.df,asset,sensors)\n",
        "edApi.updateSensorDataByFile(asset,uploadSensorList)"
      ],
      "execution_count": null,
      "outputs": [
        {
          "output_type": "stream",
          "text": [
            "getting sensors: ON button state-Coffee request button state from: 2021-02-18 07:00:00 to : 2021-02-18 15:00:00\n",
            "\r[##############################] 100%                     On button  Status\n",
            "date                                  \n",
            "2021-02-18 12:10:00        1.0     1.0\n",
            "2021-02-18 12:10:01        0.0     NaN\n",
            "2021-02-18 12:10:06        0.1     NaN\n",
            "2021-02-18 12:10:07        0.0     NaN\n",
            "2021-02-18 12:20:00        NaN     0.0\n"
          ],
          "name": "stdout"
        },
        {
          "output_type": "display_data",
          "data": {
            "text/html": [
              "<html>\n",
              "<head><meta charset=\"utf-8\" /></head>\n",
              "<body>\n",
              "    <div>            <script src=\"https://cdnjs.cloudflare.com/ajax/libs/mathjax/2.7.5/MathJax.js?config=TeX-AMS-MML_SVG\"></script><script type=\"text/javascript\">if (window.MathJax) {MathJax.Hub.Config({SVG: {font: \"STIX-Web\"}});}</script>                <script type=\"text/javascript\">window.PlotlyConfig = {MathJaxConfig: 'local'};</script>\n",
              "        <script src=\"https://cdn.plot.ly/plotly-latest.min.js\"></script>                <div id=\"97cf03ac-91f0-4a33-9b4f-aa0307aab613\" class=\"plotly-graph-div\" style=\"height:525px; width:100%;\"></div>            <script type=\"text/javascript\">                                    window.PLOTLYENV=window.PLOTLYENV || {};                                    if (document.getElementById(\"97cf03ac-91f0-4a33-9b4f-aa0307aab613\")) {                    Plotly.newPlot(                        \"97cf03ac-91f0-4a33-9b4f-aa0307aab613\",                        [{\"name\": \"Status #\", \"type\": \"scatter\", \"x\": [\"2021-02-18T12:10:00\", \"2021-02-18T12:10:01\", \"2021-02-18T12:10:06\", \"2021-02-18T12:10:07\", \"2021-02-18T12:20:00\"], \"y\": [1.0, 1.0, 1.0, 1.0, 0.0], \"yaxis\": \"y\"}, {\"name\": \"On button #\", \"type\": \"scatter\", \"x\": [\"2021-02-18T12:10:00\", \"2021-02-18T12:10:01\", \"2021-02-18T12:10:06\", \"2021-02-18T12:10:07\", \"2021-02-18T12:20:00\"], \"y\": [1.0, 0.0, 0.1, 0.0, 0.0], \"yaxis\": \"y\"}],                        {\"autosize\": true, \"template\": {\"data\": {\"bar\": [{\"error_x\": {\"color\": \"#2a3f5f\"}, \"error_y\": {\"color\": \"#2a3f5f\"}, \"marker\": {\"line\": {\"color\": \"#E5ECF6\", \"width\": 0.5}}, \"type\": \"bar\"}], \"barpolar\": [{\"marker\": {\"line\": {\"color\": \"#E5ECF6\", \"width\": 0.5}}, \"type\": \"barpolar\"}], \"carpet\": [{\"aaxis\": {\"endlinecolor\": \"#2a3f5f\", \"gridcolor\": \"white\", \"linecolor\": \"white\", \"minorgridcolor\": \"white\", \"startlinecolor\": \"#2a3f5f\"}, \"baxis\": {\"endlinecolor\": \"#2a3f5f\", \"gridcolor\": \"white\", \"linecolor\": \"white\", \"minorgridcolor\": \"white\", \"startlinecolor\": \"#2a3f5f\"}, \"type\": \"carpet\"}], \"choropleth\": [{\"colorbar\": {\"outlinewidth\": 0, \"ticks\": \"\"}, \"type\": \"choropleth\"}], \"contour\": [{\"colorbar\": {\"outlinewidth\": 0, \"ticks\": \"\"}, \"colorscale\": [[0.0, \"#0d0887\"], [0.1111111111111111, \"#46039f\"], [0.2222222222222222, \"#7201a8\"], [0.3333333333333333, \"#9c179e\"], [0.4444444444444444, \"#bd3786\"], [0.5555555555555556, \"#d8576b\"], [0.6666666666666666, \"#ed7953\"], [0.7777777777777778, \"#fb9f3a\"], [0.8888888888888888, \"#fdca26\"], [1.0, \"#f0f921\"]], \"type\": \"contour\"}], \"contourcarpet\": [{\"colorbar\": {\"outlinewidth\": 0, \"ticks\": \"\"}, \"type\": \"contourcarpet\"}], \"heatmap\": [{\"colorbar\": {\"outlinewidth\": 0, \"ticks\": \"\"}, \"colorscale\": [[0.0, \"#0d0887\"], [0.1111111111111111, \"#46039f\"], [0.2222222222222222, \"#7201a8\"], [0.3333333333333333, \"#9c179e\"], [0.4444444444444444, \"#bd3786\"], [0.5555555555555556, \"#d8576b\"], [0.6666666666666666, \"#ed7953\"], [0.7777777777777778, \"#fb9f3a\"], [0.8888888888888888, \"#fdca26\"], [1.0, \"#f0f921\"]], \"type\": \"heatmap\"}], \"heatmapgl\": [{\"colorbar\": {\"outlinewidth\": 0, \"ticks\": \"\"}, \"colorscale\": [[0.0, \"#0d0887\"], [0.1111111111111111, \"#46039f\"], [0.2222222222222222, \"#7201a8\"], [0.3333333333333333, \"#9c179e\"], [0.4444444444444444, \"#bd3786\"], [0.5555555555555556, \"#d8576b\"], [0.6666666666666666, \"#ed7953\"], [0.7777777777777778, \"#fb9f3a\"], [0.8888888888888888, \"#fdca26\"], [1.0, \"#f0f921\"]], \"type\": \"heatmapgl\"}], \"histogram\": [{\"marker\": {\"colorbar\": {\"outlinewidth\": 0, \"ticks\": \"\"}}, \"type\": \"histogram\"}], \"histogram2d\": [{\"colorbar\": {\"outlinewidth\": 0, \"ticks\": \"\"}, \"colorscale\": [[0.0, \"#0d0887\"], [0.1111111111111111, \"#46039f\"], [0.2222222222222222, \"#7201a8\"], [0.3333333333333333, \"#9c179e\"], [0.4444444444444444, \"#bd3786\"], [0.5555555555555556, \"#d8576b\"], [0.6666666666666666, \"#ed7953\"], [0.7777777777777778, \"#fb9f3a\"], [0.8888888888888888, \"#fdca26\"], [1.0, \"#f0f921\"]], \"type\": \"histogram2d\"}], \"histogram2dcontour\": [{\"colorbar\": {\"outlinewidth\": 0, \"ticks\": \"\"}, \"colorscale\": [[0.0, \"#0d0887\"], [0.1111111111111111, \"#46039f\"], [0.2222222222222222, \"#7201a8\"], [0.3333333333333333, \"#9c179e\"], [0.4444444444444444, \"#bd3786\"], [0.5555555555555556, \"#d8576b\"], [0.6666666666666666, \"#ed7953\"], [0.7777777777777778, \"#fb9f3a\"], [0.8888888888888888, \"#fdca26\"], [1.0, \"#f0f921\"]], \"type\": \"histogram2dcontour\"}], \"mesh3d\": [{\"colorbar\": {\"outlinewidth\": 0, \"ticks\": \"\"}, \"type\": \"mesh3d\"}], \"parcoords\": [{\"line\": {\"colorbar\": {\"outlinewidth\": 0, \"ticks\": \"\"}}, \"type\": \"parcoords\"}], \"pie\": [{\"automargin\": true, \"type\": \"pie\"}], \"scatter\": [{\"marker\": {\"colorbar\": {\"outlinewidth\": 0, \"ticks\": \"\"}}, \"type\": \"scatter\"}], \"scatter3d\": [{\"line\": {\"colorbar\": {\"outlinewidth\": 0, \"ticks\": \"\"}}, \"marker\": {\"colorbar\": {\"outlinewidth\": 0, \"ticks\": \"\"}}, \"type\": \"scatter3d\"}], \"scattercarpet\": [{\"marker\": {\"colorbar\": {\"outlinewidth\": 0, \"ticks\": \"\"}}, \"type\": \"scattercarpet\"}], \"scattergeo\": [{\"marker\": {\"colorbar\": {\"outlinewidth\": 0, \"ticks\": \"\"}}, \"type\": \"scattergeo\"}], \"scattergl\": [{\"marker\": {\"colorbar\": {\"outlinewidth\": 0, \"ticks\": \"\"}}, \"type\": \"scattergl\"}], \"scattermapbox\": [{\"marker\": {\"colorbar\": {\"outlinewidth\": 0, \"ticks\": \"\"}}, \"type\": \"scattermapbox\"}], \"scatterpolar\": [{\"marker\": {\"colorbar\": {\"outlinewidth\": 0, \"ticks\": \"\"}}, \"type\": \"scatterpolar\"}], \"scatterpolargl\": [{\"marker\": {\"colorbar\": {\"outlinewidth\": 0, \"ticks\": \"\"}}, \"type\": \"scatterpolargl\"}], \"scatterternary\": [{\"marker\": {\"colorbar\": {\"outlinewidth\": 0, \"ticks\": \"\"}}, \"type\": \"scatterternary\"}], \"surface\": [{\"colorbar\": {\"outlinewidth\": 0, \"ticks\": \"\"}, \"colorscale\": [[0.0, \"#0d0887\"], [0.1111111111111111, \"#46039f\"], [0.2222222222222222, \"#7201a8\"], [0.3333333333333333, \"#9c179e\"], [0.4444444444444444, \"#bd3786\"], [0.5555555555555556, \"#d8576b\"], [0.6666666666666666, \"#ed7953\"], [0.7777777777777778, \"#fb9f3a\"], [0.8888888888888888, \"#fdca26\"], [1.0, \"#f0f921\"]], \"type\": \"surface\"}], \"table\": [{\"cells\": {\"fill\": {\"color\": \"#EBF0F8\"}, \"line\": {\"color\": \"white\"}}, \"header\": {\"fill\": {\"color\": \"#C8D4E3\"}, \"line\": {\"color\": \"white\"}}, \"type\": \"table\"}]}, \"layout\": {\"annotationdefaults\": {\"arrowcolor\": \"#2a3f5f\", \"arrowhead\": 0, \"arrowwidth\": 1}, \"autotypenumbers\": \"strict\", \"coloraxis\": {\"colorbar\": {\"outlinewidth\": 0, \"ticks\": \"\"}}, \"colorscale\": {\"diverging\": [[0, \"#8e0152\"], [0.1, \"#c51b7d\"], [0.2, \"#de77ae\"], [0.3, \"#f1b6da\"], [0.4, \"#fde0ef\"], [0.5, \"#f7f7f7\"], [0.6, \"#e6f5d0\"], [0.7, \"#b8e186\"], [0.8, \"#7fbc41\"], [0.9, \"#4d9221\"], [1, \"#276419\"]], \"sequential\": [[0.0, \"#0d0887\"], [0.1111111111111111, \"#46039f\"], [0.2222222222222222, \"#7201a8\"], [0.3333333333333333, \"#9c179e\"], [0.4444444444444444, \"#bd3786\"], [0.5555555555555556, \"#d8576b\"], [0.6666666666666666, \"#ed7953\"], [0.7777777777777778, \"#fb9f3a\"], [0.8888888888888888, \"#fdca26\"], [1.0, \"#f0f921\"]], \"sequentialminus\": [[0.0, \"#0d0887\"], [0.1111111111111111, \"#46039f\"], [0.2222222222222222, \"#7201a8\"], [0.3333333333333333, \"#9c179e\"], [0.4444444444444444, \"#bd3786\"], [0.5555555555555556, \"#d8576b\"], [0.6666666666666666, \"#ed7953\"], [0.7777777777777778, \"#fb9f3a\"], [0.8888888888888888, \"#fdca26\"], [1.0, \"#f0f921\"]]}, \"colorway\": [\"#636efa\", \"#EF553B\", \"#00cc96\", \"#ab63fa\", \"#FFA15A\", \"#19d3f3\", \"#FF6692\", \"#B6E880\", \"#FF97FF\", \"#FECB52\"], \"font\": {\"color\": \"#2a3f5f\"}, \"geo\": {\"bgcolor\": \"white\", \"lakecolor\": \"white\", \"landcolor\": \"#E5ECF6\", \"showlakes\": true, \"showland\": true, \"subunitcolor\": \"white\"}, \"hoverlabel\": {\"align\": \"left\"}, \"hovermode\": \"closest\", \"mapbox\": {\"style\": \"light\"}, \"paper_bgcolor\": \"white\", \"plot_bgcolor\": \"#E5ECF6\", \"polar\": {\"angularaxis\": {\"gridcolor\": \"white\", \"linecolor\": \"white\", \"ticks\": \"\"}, \"bgcolor\": \"#E5ECF6\", \"radialaxis\": {\"gridcolor\": \"white\", \"linecolor\": \"white\", \"ticks\": \"\"}}, \"scene\": {\"xaxis\": {\"backgroundcolor\": \"#E5ECF6\", \"gridcolor\": \"white\", \"gridwidth\": 2, \"linecolor\": \"white\", \"showbackground\": true, \"ticks\": \"\", \"zerolinecolor\": \"white\"}, \"yaxis\": {\"backgroundcolor\": \"#E5ECF6\", \"gridcolor\": \"white\", \"gridwidth\": 2, \"linecolor\": \"white\", \"showbackground\": true, \"ticks\": \"\", \"zerolinecolor\": \"white\"}, \"zaxis\": {\"backgroundcolor\": \"#E5ECF6\", \"gridcolor\": \"white\", \"gridwidth\": 2, \"linecolor\": \"white\", \"showbackground\": true, \"ticks\": \"\", \"zerolinecolor\": \"white\"}}, \"shapedefaults\": {\"line\": {\"color\": \"#2a3f5f\"}}, \"ternary\": {\"aaxis\": {\"gridcolor\": \"white\", \"linecolor\": \"white\", \"ticks\": \"\"}, \"baxis\": {\"gridcolor\": \"white\", \"linecolor\": \"white\", \"ticks\": \"\"}, \"bgcolor\": \"#E5ECF6\", \"caxis\": {\"gridcolor\": \"white\", \"linecolor\": \"white\", \"ticks\": \"\"}}, \"title\": {\"x\": 0.05}, \"xaxis\": {\"automargin\": true, \"gridcolor\": \"white\", \"linecolor\": \"white\", \"ticks\": \"\", \"title\": {\"standoff\": 15}, \"zerolinecolor\": \"white\", \"zerolinewidth\": 2}, \"yaxis\": {\"automargin\": true, \"gridcolor\": \"white\", \"linecolor\": \"white\", \"ticks\": \"\", \"title\": {\"standoff\": 15}, \"zerolinecolor\": \"white\", \"zerolinewidth\": 2}}}, \"title\": {\"text\": \"Plot\"}, \"xaxis\": {\"domain\": [0.05, 1.0], \"title\": {\"text\": \"time\"}}, \"yaxis\": {\"anchor\": \"free\", \"position\": 0.0, \"side\": \"left\", \"title\": {\"text\": \"Status\"}}},                        {\"responsive\": true}                    ).then(function(){\n",
              "                            \n",
              "var gd = document.getElementById('97cf03ac-91f0-4a33-9b4f-aa0307aab613');\n",
              "var x = new MutationObserver(function (mutations, observer) {{\n",
              "        var display = window.getComputedStyle(gd).display;\n",
              "        if (!display || display === 'none') {{\n",
              "            console.log([gd, 'removed!']);\n",
              "            Plotly.purge(gd);\n",
              "            observer.disconnect();\n",
              "        }}\n",
              "}});\n",
              "\n",
              "// Listen for the removal of the full notebook cells\n",
              "var notebookContainer = gd.closest('#notebook-container');\n",
              "if (notebookContainer) {{\n",
              "    x.observe(notebookContainer, {childList: true});\n",
              "}}\n",
              "\n",
              "// Listen for the clearing of the current output cell\n",
              "var outputEl = gd.closest('.output');\n",
              "if (outputEl) {{\n",
              "    x.observe(outputEl, {childList: true});\n",
              "}}\n",
              "\n",
              "                        })                };                            </script>        </div>\n",
              "</body>\n",
              "</html>"
            ]
          },
          "metadata": {
            "tags": []
          }
        },
        {
          "output_type": "stream",
          "text": [
            "('ON button state', 90)\n",
            "WARNING Possible Sensor Name Mismatch !!!\n",
            "('Status', 100)\n",
            "preparing payload\n",
            "Payload sent successfully ! Checkout: https://edison.ionenergy.co/core/iot/connected_component/view/229883/graph\n"
          ],
          "name": "stdout"
        }
      ]
    }
  ]
}